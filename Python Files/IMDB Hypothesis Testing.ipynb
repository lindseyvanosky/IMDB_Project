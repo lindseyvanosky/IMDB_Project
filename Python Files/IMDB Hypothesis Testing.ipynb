{
 "cells": [
  {
   "cell_type": "code",
   "execution_count": 1,
   "id": "ad88f483",
   "metadata": {},
   "outputs": [],
   "source": [
    "import pandas as pd\n",
    "import numpy as np\n",
    "import matplotlib.pyplot as plt\n",
    "import seaborn as sns\n",
    "import scipy.stats as stats\n",
    "import os \n",
    "import glob"
   ]
  },
  {
   "cell_type": "code",
   "execution_count": 2,
   "id": "98867aac",
   "metadata": {},
   "outputs": [
    {
     "data": {
      "text/plain": [
       "['.ipynb_checkpoints',\n",
       " 'Already in SQL',\n",
       " 'Extraction Datafinal_tmdb_data_2002.csv.gz',\n",
       " 'Extraction Datafinal_tmdb_data_2003.csv.gz',\n",
       " 'Extraction Datafinal_tmdb_data_2004.csv.gz',\n",
       " 'Extraction Datafinal_tmdb_data_2005.csv.gz',\n",
       " 'Extraction Datafinal_tmdb_data_2006.csv.gz',\n",
       " 'Extraction Datafinal_tmdb_data_2007.csv.gz',\n",
       " 'Extraction Datafinal_tmdb_data_2008.csv.gz',\n",
       " 'Extraction Datafinal_tmdb_data_2009.csv.gz',\n",
       " 'Extraction Datafinal_tmdb_data_2010.csv.gz',\n",
       " 'Extraction Datafinal_tmdb_data_2011.csv.gz',\n",
       " 'Extraction Datafinal_tmdb_data_2012.csv.gz',\n",
       " 'Extraction Datafinal_tmdb_data_2013.csv.gz',\n",
       " 'Extraction Datafinal_tmdb_data_2014.csv.gz',\n",
       " 'Extraction Datafinal_tmdb_data_2015.csv.gz',\n",
       " 'Extraction Datafinal_tmdb_data_2016.csv.gz',\n",
       " 'Extraction Datafinal_tmdb_data_2017.csv.gz',\n",
       " 'Extraction Datafinal_tmdb_data_2018.csv.gz',\n",
       " 'Extraction Datafinal_tmdb_data_2019.csv.gz',\n",
       " 'Extraction Datafinal_tmdb_data_2020.csv.gz']"
      ]
     },
     "execution_count": 2,
     "metadata": {},
     "output_type": "execute_result"
    }
   ],
   "source": [
    "FOLDER = \"../Data/Extraction Data\"\n",
    "file_list = sorted(os.listdir(FOLDER))\n",
    "file_list"
   ]
  },
  {
   "cell_type": "code",
   "execution_count": 3,
   "id": "a6e6876a",
   "metadata": {},
   "outputs": [
    {
     "data": {
      "text/plain": [
       "'../Data/Extraction DataExtraction Datafinal_tmdb_data_2002.csv.gz'"
      ]
     },
     "execution_count": 3,
     "metadata": {},
     "output_type": "execute_result"
    }
   ],
   "source": [
    "FOLDER+ file_list[2]"
   ]
  },
  {
   "cell_type": "code",
   "execution_count": 4,
   "id": "1aa24ae8",
   "metadata": {},
   "outputs": [
    {
     "data": {
      "text/plain": [
       "'../Data/Extraction Data/Extraction**.csv.gz'"
      ]
     },
     "execution_count": 4,
     "metadata": {},
     "output_type": "execute_result"
    }
   ],
   "source": [
    "q = FOLDER+\"/Extraction**.csv.gz\"\n",
    "\n",
    "q"
   ]
  },
  {
   "cell_type": "code",
   "execution_count": 5,
   "id": "b22fdbae",
   "metadata": {},
   "outputs": [
    {
     "data": {
      "text/plain": [
       "['../Data/Extraction Data/Extraction Datafinal_tmdb_data_2010.csv.gz',\n",
       " '../Data/Extraction Data/Extraction Datafinal_tmdb_data_2002.csv.gz',\n",
       " '../Data/Extraction Data/Extraction Datafinal_tmdb_data_2012.csv.gz',\n",
       " '../Data/Extraction Data/Extraction Datafinal_tmdb_data_2020.csv.gz',\n",
       " '../Data/Extraction Data/Extraction Datafinal_tmdb_data_2016.csv.gz',\n",
       " '../Data/Extraction Data/Extraction Datafinal_tmdb_data_2008.csv.gz',\n",
       " '../Data/Extraction Data/Extraction Datafinal_tmdb_data_2004.csv.gz',\n",
       " '../Data/Extraction Data/Extraction Datafinal_tmdb_data_2018.csv.gz',\n",
       " '../Data/Extraction Data/Extraction Datafinal_tmdb_data_2006.csv.gz',\n",
       " '../Data/Extraction Data/Extraction Datafinal_tmdb_data_2014.csv.gz',\n",
       " '../Data/Extraction Data/Extraction Datafinal_tmdb_data_2011.csv.gz',\n",
       " '../Data/Extraction Data/Extraction Datafinal_tmdb_data_2003.csv.gz',\n",
       " '../Data/Extraction Data/Extraction Datafinal_tmdb_data_2013.csv.gz',\n",
       " '../Data/Extraction Data/Extraction Datafinal_tmdb_data_2009.csv.gz',\n",
       " '../Data/Extraction Data/Extraction Datafinal_tmdb_data_2017.csv.gz',\n",
       " '../Data/Extraction Data/Extraction Datafinal_tmdb_data_2005.csv.gz',\n",
       " '../Data/Extraction Data/Extraction Datafinal_tmdb_data_2007.csv.gz',\n",
       " '../Data/Extraction Data/Extraction Datafinal_tmdb_data_2019.csv.gz',\n",
       " '../Data/Extraction Data/Extraction Datafinal_tmdb_data_2015.csv.gz']"
      ]
     },
     "execution_count": 5,
     "metadata": {},
     "output_type": "execute_result"
    }
   ],
   "source": [
    "file_list = glob.glob(q, recursive = True)\n",
    "file_list"
   ]
  },
  {
   "cell_type": "code",
   "execution_count": 6,
   "id": "6e03ca8e",
   "metadata": {},
   "outputs": [
    {
     "data": {
      "text/plain": [
       "19"
      ]
     },
     "execution_count": 6,
     "metadata": {},
     "output_type": "execute_result"
    }
   ],
   "source": [
    "df_list = []\n",
    "\n",
    "for file in file_list:\n",
    "    temp_df = pd.read_csv(file, delimiter = \",\", engine = \"python\")\n",
    "    df_list.append(temp_df)\n",
    "    \n",
    "len(df_list)   "
   ]
  },
  {
   "cell_type": "code",
   "execution_count": null,
   "id": "edc121d8",
   "metadata": {},
   "outputs": [],
   "source": []
  },
  {
   "cell_type": "code",
   "execution_count": null,
   "id": "c25cceef",
   "metadata": {},
   "outputs": [],
   "source": []
  },
  {
   "cell_type": "code",
   "execution_count": null,
   "id": "29b61986",
   "metadata": {},
   "outputs": [],
   "source": []
  },
  {
   "cell_type": "code",
   "execution_count": null,
   "id": "a8ffd654",
   "metadata": {},
   "outputs": [],
   "source": []
  },
  {
   "cell_type": "code",
   "execution_count": null,
   "id": "9c70879e",
   "metadata": {},
   "outputs": [],
   "source": []
  }
 ],
 "metadata": {
  "kernelspec": {
   "display_name": "Python (dojo-env)",
   "language": "python",
   "name": "dojo-env"
  },
  "language_info": {
   "codemirror_mode": {
    "name": "ipython",
    "version": 3
   },
   "file_extension": ".py",
   "mimetype": "text/x-python",
   "name": "python",
   "nbconvert_exporter": "python",
   "pygments_lexer": "ipython3",
   "version": "3.8.13"
  }
 },
 "nbformat": 4,
 "nbformat_minor": 5
}

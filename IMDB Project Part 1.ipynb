{
 "cells": [
  {
   "cell_type": "markdown",
   "id": "758753e1",
   "metadata": {},
   "source": [
    "# Import & Upload"
   ]
  },
  {
   "cell_type": "code",
   "execution_count": 1,
   "id": "f38755df",
   "metadata": {},
   "outputs": [],
   "source": [
    "import pandas as pd \n",
    "import numpy as np"
   ]
  },
  {
   "cell_type": "code",
   "execution_count": 2,
   "id": "d373aa8b",
   "metadata": {},
   "outputs": [],
   "source": [
    "akas_url = \"https://datasets.imdbws.com/title.akas.tsv.gz\"\n",
    "basic_url = \"https://datasets.imdbws.com/title.basics.tsv.gz\"\n",
    "ratings_url = \"https://datasets.imdbws.com/title.ratings.tsv.gz\""
   ]
  },
  {
   "cell_type": "code",
   "execution_count": 3,
   "id": "18ff4977",
   "metadata": {},
   "outputs": [],
   "source": [
    "basics = pd.read_csv(basic_url, sep = \"\\t\", low_memory = False)\n",
    "akas = pd.read_csv(akas_url, sep = \"\\t\", low_memory = False)\n",
    "ratings = pd.read_csv(ratings_url, sep = \"\\t\", low_memory = False)"
   ]
  },
  {
   "cell_type": "markdown",
   "id": "fa249051",
   "metadata": {},
   "source": [
    "# Data Cleaning"
   ]
  },
  {
   "cell_type": "code",
   "execution_count": 4,
   "id": "0403afb9",
   "metadata": {},
   "outputs": [],
   "source": [
    "basics.replace({'\\\\N':np.nan}, inplace = True)\n",
    "akas.replace({'\\\\N':np.nan}, inplace = True)\n",
    "ratings.replace({'\\\\N':np.nan}, inplace = True)"
   ]
  },
  {
   "cell_type": "code",
   "execution_count": 5,
   "id": "b844ad86",
   "metadata": {},
   "outputs": [
    {
     "name": "stdout",
     "output_type": "stream",
     "text": [
      "<class 'pandas.core.frame.DataFrame'>\n",
      "RangeIndex: 9151875 entries, 0 to 9151874\n",
      "Data columns (total 9 columns):\n",
      " #   Column          Dtype \n",
      "---  ------          ----- \n",
      " 0   tconst          object\n",
      " 1   titleType       object\n",
      " 2   primaryTitle    object\n",
      " 3   originalTitle   object\n",
      " 4   isAdult         object\n",
      " 5   startYear       object\n",
      " 6   endYear         object\n",
      " 7   runtimeMinutes  object\n",
      " 8   genres          object\n",
      "dtypes: object(9)\n",
      "memory usage: 628.4+ MB\n"
     ]
    }
   ],
   "source": [
    "basics.info()"
   ]
  },
  {
   "cell_type": "code",
   "execution_count": 6,
   "id": "9deaf43a",
   "metadata": {},
   "outputs": [
    {
     "data": {
      "text/plain": [
       "tvEpisode       1061865\n",
       "short            573313\n",
       "movie            366361\n",
       "video            174813\n",
       "tvMovie           88223\n",
       "tvSeries          86401\n",
       "tvSpecial         16441\n",
       "tvMiniSeries      16016\n",
       "tvShort            9372\n",
       "videoGame           294\n",
       "Name: titleType, dtype: int64"
      ]
     },
     "execution_count": 6,
     "metadata": {},
     "output_type": "execute_result"
    }
   ],
   "source": [
    "basics.dropna(subset = [\"runtimeMinutes\", \"genres\"], inplace = True)\n",
    "basics[\"titleType\"].value_counts()"
   ]
  },
  {
   "cell_type": "code",
   "execution_count": 7,
   "id": "c73922d3",
   "metadata": {},
   "outputs": [],
   "source": [
    "basics = basics[basics.titleType == \"movie\"]\n"
   ]
  },
  {
   "cell_type": "code",
   "execution_count": 8,
   "id": "ed13c012",
   "metadata": {},
   "outputs": [
    {
     "data": {
      "text/plain": [
       "movie    366361\n",
       "Name: titleType, dtype: int64"
      ]
     },
     "execution_count": 8,
     "metadata": {},
     "output_type": "execute_result"
    }
   ],
   "source": [
    "basics[\"titleType\"].value_counts()"
   ]
  },
  {
   "cell_type": "code",
   "execution_count": 9,
   "id": "253ee809",
   "metadata": {},
   "outputs": [
    {
     "data": {
      "text/plain": [
       "2017    14181\n",
       "2018    14122\n",
       "2016    13811\n",
       "2019    13790\n",
       "2015    13320\n",
       "2014    12980\n",
       "2013    12264\n",
       "2021    11693\n",
       "2012    11534\n",
       "2020    11243\n",
       "2011    10674\n",
       "2010    10115\n",
       "2009     9261\n",
       "2008     8067\n",
       "2022     7429\n",
       "2007     6878\n",
       "2006     6427\n",
       "2005     5760\n",
       "2004     5127\n",
       "2003     4526\n",
       "2002     4084\n",
       "2001     3810\n",
       "2000     3591\n",
       "Name: startYear, dtype: int64"
      ]
     },
     "execution_count": 9,
     "metadata": {},
     "output_type": "execute_result"
    }
   ],
   "source": [
    "basics = basics[(basics.startYear >= \"2000\") & (basics.startYear <= \"2022\")]\n",
    "\n",
    "basics[\"startYear\"].value_counts()"
   ]
  },
  {
   "cell_type": "code",
   "execution_count": 10,
   "id": "ec459136",
   "metadata": {},
   "outputs": [],
   "source": [
    "is_documentary = basics['genres'].str.contains('documentary',case=False)\n",
    "basics = basics[~is_documentary]"
   ]
  },
  {
   "cell_type": "code",
   "execution_count": 11,
   "id": "9d2ecf39",
   "metadata": {},
   "outputs": [
    {
     "name": "stdout",
     "output_type": "stream",
     "text": [
      "<class 'pandas.core.frame.DataFrame'>\n",
      "RangeIndex: 32854693 entries, 0 to 32854692\n",
      "Data columns (total 8 columns):\n",
      " #   Column           Dtype \n",
      "---  ------           ----- \n",
      " 0   titleId          object\n",
      " 1   ordering         int64 \n",
      " 2   title            object\n",
      " 3   region           object\n",
      " 4   language         object\n",
      " 5   types            object\n",
      " 6   attributes       object\n",
      " 7   isOriginalTitle  object\n",
      "dtypes: int64(1), object(7)\n",
      "memory usage: 2.0+ GB\n"
     ]
    },
    {
     "data": {
      "text/plain": [
       "US    1342445\n",
       "Name: region, dtype: int64"
      ]
     },
     "execution_count": 11,
     "metadata": {},
     "output_type": "execute_result"
    }
   ],
   "source": [
    "akas.info()\n",
    "akas = akas[akas.region == \"US\"]\n",
    "akas[\"region\"].value_counts()"
   ]
  },
  {
   "cell_type": "code",
   "execution_count": 12,
   "id": "da1770c6",
   "metadata": {},
   "outputs": [
    {
     "data": {
      "text/plain": [
       "34790       True\n",
       "61089       True\n",
       "67634       True\n",
       "77928      False\n",
       "86765       True\n",
       "           ...  \n",
       "9151547     True\n",
       "9151556     True\n",
       "9151595    False\n",
       "9151640     True\n",
       "9151724    False\n",
       "Name: tconst, Length: 142096, dtype: bool"
      ]
     },
     "execution_count": 12,
     "metadata": {},
     "output_type": "execute_result"
    }
   ],
   "source": [
    "keepers = basics['tconst'].isin(akas['titleId'])\n",
    "keepers"
   ]
  },
  {
   "cell_type": "code",
   "execution_count": 13,
   "id": "e349ef29",
   "metadata": {},
   "outputs": [
    {
     "data": {
      "text/html": [
       "<div>\n",
       "<style scoped>\n",
       "    .dataframe tbody tr th:only-of-type {\n",
       "        vertical-align: middle;\n",
       "    }\n",
       "\n",
       "    .dataframe tbody tr th {\n",
       "        vertical-align: top;\n",
       "    }\n",
       "\n",
       "    .dataframe thead th {\n",
       "        text-align: right;\n",
       "    }\n",
       "</style>\n",
       "<table border=\"1\" class=\"dataframe\">\n",
       "  <thead>\n",
       "    <tr style=\"text-align: right;\">\n",
       "      <th></th>\n",
       "      <th>tconst</th>\n",
       "      <th>titleType</th>\n",
       "      <th>primaryTitle</th>\n",
       "      <th>originalTitle</th>\n",
       "      <th>isAdult</th>\n",
       "      <th>startYear</th>\n",
       "      <th>endYear</th>\n",
       "      <th>runtimeMinutes</th>\n",
       "      <th>genres</th>\n",
       "    </tr>\n",
       "  </thead>\n",
       "  <tbody>\n",
       "    <tr>\n",
       "      <th>34790</th>\n",
       "      <td>tt0035423</td>\n",
       "      <td>movie</td>\n",
       "      <td>Kate &amp; Leopold</td>\n",
       "      <td>Kate &amp; Leopold</td>\n",
       "      <td>0</td>\n",
       "      <td>2001</td>\n",
       "      <td>NaN</td>\n",
       "      <td>118</td>\n",
       "      <td>Comedy,Fantasy,Romance</td>\n",
       "    </tr>\n",
       "    <tr>\n",
       "      <th>61089</th>\n",
       "      <td>tt0062336</td>\n",
       "      <td>movie</td>\n",
       "      <td>The Tango of the Widower and Its Distorting Mi...</td>\n",
       "      <td>El Tango del Viudo y Su Espejo Deformante</td>\n",
       "      <td>0</td>\n",
       "      <td>2020</td>\n",
       "      <td>NaN</td>\n",
       "      <td>70</td>\n",
       "      <td>Drama</td>\n",
       "    </tr>\n",
       "    <tr>\n",
       "      <th>67634</th>\n",
       "      <td>tt0069049</td>\n",
       "      <td>movie</td>\n",
       "      <td>The Other Side of the Wind</td>\n",
       "      <td>The Other Side of the Wind</td>\n",
       "      <td>0</td>\n",
       "      <td>2018</td>\n",
       "      <td>NaN</td>\n",
       "      <td>122</td>\n",
       "      <td>Drama</td>\n",
       "    </tr>\n",
       "    <tr>\n",
       "      <th>86765</th>\n",
       "      <td>tt0088751</td>\n",
       "      <td>movie</td>\n",
       "      <td>The Naked Monster</td>\n",
       "      <td>The Naked Monster</td>\n",
       "      <td>0</td>\n",
       "      <td>2005</td>\n",
       "      <td>NaN</td>\n",
       "      <td>100</td>\n",
       "      <td>Comedy,Horror,Sci-Fi</td>\n",
       "    </tr>\n",
       "    <tr>\n",
       "      <th>92730</th>\n",
       "      <td>tt0094859</td>\n",
       "      <td>movie</td>\n",
       "      <td>Chief Zabu</td>\n",
       "      <td>Chief Zabu</td>\n",
       "      <td>0</td>\n",
       "      <td>2016</td>\n",
       "      <td>NaN</td>\n",
       "      <td>74</td>\n",
       "      <td>Comedy</td>\n",
       "    </tr>\n",
       "    <tr>\n",
       "      <th>...</th>\n",
       "      <td>...</td>\n",
       "      <td>...</td>\n",
       "      <td>...</td>\n",
       "      <td>...</td>\n",
       "      <td>...</td>\n",
       "      <td>...</td>\n",
       "      <td>...</td>\n",
       "      <td>...</td>\n",
       "      <td>...</td>\n",
       "    </tr>\n",
       "    <tr>\n",
       "      <th>9151011</th>\n",
       "      <td>tt9914942</td>\n",
       "      <td>movie</td>\n",
       "      <td>Life Without Sara Amat</td>\n",
       "      <td>La vida sense la Sara Amat</td>\n",
       "      <td>0</td>\n",
       "      <td>2019</td>\n",
       "      <td>NaN</td>\n",
       "      <td>74</td>\n",
       "      <td>Drama</td>\n",
       "    </tr>\n",
       "    <tr>\n",
       "      <th>9151407</th>\n",
       "      <td>tt9915872</td>\n",
       "      <td>movie</td>\n",
       "      <td>The Last White Witch</td>\n",
       "      <td>My Girlfriend is a Wizard</td>\n",
       "      <td>0</td>\n",
       "      <td>2019</td>\n",
       "      <td>NaN</td>\n",
       "      <td>97</td>\n",
       "      <td>Comedy,Drama,Fantasy</td>\n",
       "    </tr>\n",
       "    <tr>\n",
       "      <th>9151547</th>\n",
       "      <td>tt9916170</td>\n",
       "      <td>movie</td>\n",
       "      <td>The Rehearsal</td>\n",
       "      <td>O Ensaio</td>\n",
       "      <td>0</td>\n",
       "      <td>2019</td>\n",
       "      <td>NaN</td>\n",
       "      <td>51</td>\n",
       "      <td>Drama</td>\n",
       "    </tr>\n",
       "    <tr>\n",
       "      <th>9151556</th>\n",
       "      <td>tt9916190</td>\n",
       "      <td>movie</td>\n",
       "      <td>Safeguard</td>\n",
       "      <td>Safeguard</td>\n",
       "      <td>0</td>\n",
       "      <td>2020</td>\n",
       "      <td>NaN</td>\n",
       "      <td>95</td>\n",
       "      <td>Action,Adventure,Thriller</td>\n",
       "    </tr>\n",
       "    <tr>\n",
       "      <th>9151640</th>\n",
       "      <td>tt9916362</td>\n",
       "      <td>movie</td>\n",
       "      <td>Coven</td>\n",
       "      <td>Akelarre</td>\n",
       "      <td>0</td>\n",
       "      <td>2020</td>\n",
       "      <td>NaN</td>\n",
       "      <td>92</td>\n",
       "      <td>Drama,History</td>\n",
       "    </tr>\n",
       "  </tbody>\n",
       "</table>\n",
       "<p>82108 rows × 9 columns</p>\n",
       "</div>"
      ],
      "text/plain": [
       "            tconst titleType  \\\n",
       "34790    tt0035423     movie   \n",
       "61089    tt0062336     movie   \n",
       "67634    tt0069049     movie   \n",
       "86765    tt0088751     movie   \n",
       "92730    tt0094859     movie   \n",
       "...            ...       ...   \n",
       "9151011  tt9914942     movie   \n",
       "9151407  tt9915872     movie   \n",
       "9151547  tt9916170     movie   \n",
       "9151556  tt9916190     movie   \n",
       "9151640  tt9916362     movie   \n",
       "\n",
       "                                              primaryTitle  \\\n",
       "34790                                       Kate & Leopold   \n",
       "61089    The Tango of the Widower and Its Distorting Mi...   \n",
       "67634                           The Other Side of the Wind   \n",
       "86765                                    The Naked Monster   \n",
       "92730                                           Chief Zabu   \n",
       "...                                                    ...   \n",
       "9151011                             Life Without Sara Amat   \n",
       "9151407                               The Last White Witch   \n",
       "9151547                                      The Rehearsal   \n",
       "9151556                                          Safeguard   \n",
       "9151640                                              Coven   \n",
       "\n",
       "                                     originalTitle isAdult startYear endYear  \\\n",
       "34790                               Kate & Leopold       0      2001     NaN   \n",
       "61089    El Tango del Viudo y Su Espejo Deformante       0      2020     NaN   \n",
       "67634                   The Other Side of the Wind       0      2018     NaN   \n",
       "86765                            The Naked Monster       0      2005     NaN   \n",
       "92730                                   Chief Zabu       0      2016     NaN   \n",
       "...                                            ...     ...       ...     ...   \n",
       "9151011                 La vida sense la Sara Amat       0      2019     NaN   \n",
       "9151407                  My Girlfriend is a Wizard       0      2019     NaN   \n",
       "9151547                                   O Ensaio       0      2019     NaN   \n",
       "9151556                                  Safeguard       0      2020     NaN   \n",
       "9151640                                   Akelarre       0      2020     NaN   \n",
       "\n",
       "        runtimeMinutes                     genres  \n",
       "34790              118     Comedy,Fantasy,Romance  \n",
       "61089               70                      Drama  \n",
       "67634              122                      Drama  \n",
       "86765              100       Comedy,Horror,Sci-Fi  \n",
       "92730               74                     Comedy  \n",
       "...                ...                        ...  \n",
       "9151011             74                      Drama  \n",
       "9151407             97       Comedy,Drama,Fantasy  \n",
       "9151547             51                      Drama  \n",
       "9151556             95  Action,Adventure,Thriller  \n",
       "9151640             92              Drama,History  \n",
       "\n",
       "[82108 rows x 9 columns]"
      ]
     },
     "execution_count": 13,
     "metadata": {},
     "output_type": "execute_result"
    }
   ],
   "source": [
    "basics = basics[keepers]\n",
    "basics\n",
    "\n"
   ]
  },
  {
   "cell_type": "code",
   "execution_count": 14,
   "id": "9463fdff",
   "metadata": {},
   "outputs": [
    {
     "data": {
      "text/plain": [
       "['title_basics.csv.gz', 'title_akas.csv.gz', 'title_ratings.csv.gz']"
      ]
     },
     "execution_count": 14,
     "metadata": {},
     "output_type": "execute_result"
    }
   ],
   "source": [
    "import os\n",
    "os.makedirs('Data/',exist_ok=True) \n",
    "# Confirm folder created\n",
    "os.listdir(\"Data/\")\n"
   ]
  },
  {
   "cell_type": "code",
   "execution_count": 15,
   "id": "1ecbe9a5",
   "metadata": {},
   "outputs": [],
   "source": [
    "basics.to_csv(\"Data/title_basics.csv.gz\",compression='gzip',index=False)\n",
    "\n"
   ]
  },
  {
   "cell_type": "code",
   "execution_count": 16,
   "id": "d4a71224",
   "metadata": {},
   "outputs": [
    {
     "data": {
      "text/html": [
       "<div>\n",
       "<style scoped>\n",
       "    .dataframe tbody tr th:only-of-type {\n",
       "        vertical-align: middle;\n",
       "    }\n",
       "\n",
       "    .dataframe tbody tr th {\n",
       "        vertical-align: top;\n",
       "    }\n",
       "\n",
       "    .dataframe thead th {\n",
       "        text-align: right;\n",
       "    }\n",
       "</style>\n",
       "<table border=\"1\" class=\"dataframe\">\n",
       "  <thead>\n",
       "    <tr style=\"text-align: right;\">\n",
       "      <th></th>\n",
       "      <th>tconst</th>\n",
       "      <th>titleType</th>\n",
       "      <th>primaryTitle</th>\n",
       "      <th>originalTitle</th>\n",
       "      <th>isAdult</th>\n",
       "      <th>startYear</th>\n",
       "      <th>endYear</th>\n",
       "      <th>runtimeMinutes</th>\n",
       "      <th>genres</th>\n",
       "    </tr>\n",
       "  </thead>\n",
       "  <tbody>\n",
       "    <tr>\n",
       "      <th>0</th>\n",
       "      <td>tt0035423</td>\n",
       "      <td>movie</td>\n",
       "      <td>Kate &amp; Leopold</td>\n",
       "      <td>Kate &amp; Leopold</td>\n",
       "      <td>0</td>\n",
       "      <td>2001</td>\n",
       "      <td>NaN</td>\n",
       "      <td>118</td>\n",
       "      <td>Comedy,Fantasy,Romance</td>\n",
       "    </tr>\n",
       "    <tr>\n",
       "      <th>1</th>\n",
       "      <td>tt0062336</td>\n",
       "      <td>movie</td>\n",
       "      <td>The Tango of the Widower and Its Distorting Mi...</td>\n",
       "      <td>El Tango del Viudo y Su Espejo Deformante</td>\n",
       "      <td>0</td>\n",
       "      <td>2020</td>\n",
       "      <td>NaN</td>\n",
       "      <td>70</td>\n",
       "      <td>Drama</td>\n",
       "    </tr>\n",
       "    <tr>\n",
       "      <th>2</th>\n",
       "      <td>tt0069049</td>\n",
       "      <td>movie</td>\n",
       "      <td>The Other Side of the Wind</td>\n",
       "      <td>The Other Side of the Wind</td>\n",
       "      <td>0</td>\n",
       "      <td>2018</td>\n",
       "      <td>NaN</td>\n",
       "      <td>122</td>\n",
       "      <td>Drama</td>\n",
       "    </tr>\n",
       "    <tr>\n",
       "      <th>3</th>\n",
       "      <td>tt0088751</td>\n",
       "      <td>movie</td>\n",
       "      <td>The Naked Monster</td>\n",
       "      <td>The Naked Monster</td>\n",
       "      <td>0</td>\n",
       "      <td>2005</td>\n",
       "      <td>NaN</td>\n",
       "      <td>100</td>\n",
       "      <td>Comedy,Horror,Sci-Fi</td>\n",
       "    </tr>\n",
       "    <tr>\n",
       "      <th>4</th>\n",
       "      <td>tt0094859</td>\n",
       "      <td>movie</td>\n",
       "      <td>Chief Zabu</td>\n",
       "      <td>Chief Zabu</td>\n",
       "      <td>0</td>\n",
       "      <td>2016</td>\n",
       "      <td>NaN</td>\n",
       "      <td>74</td>\n",
       "      <td>Comedy</td>\n",
       "    </tr>\n",
       "  </tbody>\n",
       "</table>\n",
       "</div>"
      ],
      "text/plain": [
       "      tconst titleType                                       primaryTitle  \\\n",
       "0  tt0035423     movie                                     Kate & Leopold   \n",
       "1  tt0062336     movie  The Tango of the Widower and Its Distorting Mi...   \n",
       "2  tt0069049     movie                         The Other Side of the Wind   \n",
       "3  tt0088751     movie                                  The Naked Monster   \n",
       "4  tt0094859     movie                                         Chief Zabu   \n",
       "\n",
       "                               originalTitle  isAdult  startYear  endYear  \\\n",
       "0                             Kate & Leopold        0       2001      NaN   \n",
       "1  El Tango del Viudo y Su Espejo Deformante        0       2020      NaN   \n",
       "2                 The Other Side of the Wind        0       2018      NaN   \n",
       "3                          The Naked Monster        0       2005      NaN   \n",
       "4                                 Chief Zabu        0       2016      NaN   \n",
       "\n",
       "   runtimeMinutes                  genres  \n",
       "0             118  Comedy,Fantasy,Romance  \n",
       "1              70                   Drama  \n",
       "2             122                   Drama  \n",
       "3             100    Comedy,Horror,Sci-Fi  \n",
       "4              74                  Comedy  "
      ]
     },
     "execution_count": 16,
     "metadata": {},
     "output_type": "execute_result"
    }
   ],
   "source": [
    "# Open saved file and preview again\n",
    "basics = pd.read_csv(\"Data/title_basics.csv.gz\", low_memory = False)\n",
    "basics.head()\n",
    "\n"
   ]
  },
  {
   "cell_type": "code",
   "execution_count": 17,
   "id": "5819ca3c",
   "metadata": {},
   "outputs": [],
   "source": [
    "akas.to_csv(\"Data/title_akas.csv.gz\",compression='gzip',index=False)\n",
    "ratings.to_csv(\"Data/title_ratings.csv.gz\",compression='gzip',index=False)\n"
   ]
  },
  {
   "cell_type": "code",
   "execution_count": 18,
   "id": "d5bfb873",
   "metadata": {},
   "outputs": [
    {
     "name": "stdout",
     "output_type": "stream",
     "text": [
      "<class 'pandas.core.frame.DataFrame'>\n",
      "RangeIndex: 82108 entries, 0 to 82107\n",
      "Data columns (total 9 columns):\n",
      " #   Column          Non-Null Count  Dtype  \n",
      "---  ------          --------------  -----  \n",
      " 0   tconst          82108 non-null  object \n",
      " 1   titleType       82108 non-null  object \n",
      " 2   primaryTitle    82108 non-null  object \n",
      " 3   originalTitle   82108 non-null  object \n",
      " 4   isAdult         82108 non-null  int64  \n",
      " 5   startYear       82108 non-null  int64  \n",
      " 6   endYear         0 non-null      float64\n",
      " 7   runtimeMinutes  82108 non-null  int64  \n",
      " 8   genres          82108 non-null  object \n",
      "dtypes: float64(1), int64(3), object(5)\n",
      "memory usage: 5.6+ MB\n"
     ]
    }
   ],
   "source": [
    "basics.info()"
   ]
  },
  {
   "cell_type": "code",
   "execution_count": 19,
   "id": "92a9f1e3",
   "metadata": {},
   "outputs": [
    {
     "name": "stdout",
     "output_type": "stream",
     "text": [
      "<class 'pandas.core.frame.DataFrame'>\n",
      "Int64Index: 1342445 entries, 5 to 32854437\n",
      "Data columns (total 8 columns):\n",
      " #   Column           Non-Null Count    Dtype \n",
      "---  ------           --------------    ----- \n",
      " 0   titleId          1342445 non-null  object\n",
      " 1   ordering         1342445 non-null  int64 \n",
      " 2   title            1342445 non-null  object\n",
      " 3   region           1342445 non-null  object\n",
      " 4   language         3680 non-null     object\n",
      " 5   types            963286 non-null   object\n",
      " 6   attributes       44724 non-null    object\n",
      " 7   isOriginalTitle  1341070 non-null  object\n",
      "dtypes: int64(1), object(7)\n",
      "memory usage: 92.2+ MB\n"
     ]
    }
   ],
   "source": [
    "akas.info()"
   ]
  },
  {
   "cell_type": "code",
   "execution_count": 20,
   "id": "95faa9a7",
   "metadata": {},
   "outputs": [
    {
     "name": "stdout",
     "output_type": "stream",
     "text": [
      "<class 'pandas.core.frame.DataFrame'>\n",
      "RangeIndex: 1263317 entries, 0 to 1263316\n",
      "Data columns (total 3 columns):\n",
      " #   Column         Non-Null Count    Dtype  \n",
      "---  ------         --------------    -----  \n",
      " 0   tconst         1263317 non-null  object \n",
      " 1   averageRating  1263317 non-null  float64\n",
      " 2   numVotes       1263317 non-null  int64  \n",
      "dtypes: float64(1), int64(1), object(1)\n",
      "memory usage: 28.9+ MB\n"
     ]
    }
   ],
   "source": [
    "ratings.info()"
   ]
  }
 ],
 "metadata": {
  "kernelspec": {
   "display_name": "Python (dojo-env)",
   "language": "python",
   "name": "dojo-env"
  },
  "language_info": {
   "codemirror_mode": {
    "name": "ipython",
    "version": 3
   },
   "file_extension": ".py",
   "mimetype": "text/x-python",
   "name": "python",
   "nbconvert_exporter": "python",
   "pygments_lexer": "ipython3",
   "version": "3.8.13"
  }
 },
 "nbformat": 4,
 "nbformat_minor": 5
}
